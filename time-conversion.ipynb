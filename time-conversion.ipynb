{
 "cells": [
  {
   "cell_type": "code",
   "execution_count": 4,
   "metadata": {},
   "outputs": [],
   "source": [
    "def timeConversion(s):\n",
    "\n",
    "    hour = int(s[:2])\n",
    "    minute = s[3:5]\n",
    "    sec = s[6:8]\n",
    "    ampm = s[8:9]\n",
    "    rules = [ampm == 'P', hour != 12]\n",
    "\n",
    "    if all(rules):\n",
    "        hour = hour+12\n",
    "    if hour == 12:\n",
    "        hour = '00'\n",
    "\n",
    "    hour = str(hour)\n",
    "\n",
    "    time = hour + ':' + minute + ':' + sec\n",
    "\n",
    "    return (time)\n"
   ]
  },
  {
   "cell_type": "code",
   "execution_count": 5,
   "metadata": {},
   "outputs": [
    {
     "data": {
      "text/plain": [
       "'00:00:00'"
      ]
     },
     "execution_count": 5,
     "metadata": {},
     "output_type": "execute_result"
    }
   ],
   "source": [
    "timeConversion('12:00:00PM')"
   ]
  }
 ],
 "metadata": {
  "kernelspec": {
   "display_name": "Python 3",
   "language": "python",
   "name": "python3"
  },
  "language_info": {
   "codemirror_mode": {
    "name": "ipython",
    "version": 3
   },
   "file_extension": ".py",
   "mimetype": "text/x-python",
   "name": "python",
   "nbconvert_exporter": "python",
   "pygments_lexer": "ipython3",
   "version": "3.10.8"
  },
  "orig_nbformat": 4,
  "vscode": {
   "interpreter": {
    "hash": "aee8b7b246df8f9039afb4144a1f6fd8d2ca17a180786b69acc140d282b71a49"
   }
  }
 },
 "nbformat": 4,
 "nbformat_minor": 2
}
