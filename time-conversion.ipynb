{
 "cells": [
  {
   "cell_type": "code",
   "execution_count": 26,
   "metadata": {},
   "outputs": [],
   "source": [
    "def timeConversion(s):\n",
    "  hour, mins, secs = s.split(':')\n",
    "  secs, ampm = secs[:2], secs[2:3]\n",
    "  hour = int(hour)\n",
    "  print(hour, mins, secs, ampm)\n",
    "  \n",
    "  if ampm == 'P' and hour != 12:\n",
    "    hour = hour+12\n",
    "  if hour == 12 and ampm != 'P':\n",
    "    hour = '00'\n",
    "\n",
    "  hour = str(hour)\n",
    "\n",
    "  time = hour + ':' + mins + ':' + secs\n",
    "\n",
    "  return (time)"
   ]
  },
  {
   "cell_type": "code",
   "execution_count": 27,
   "metadata": {},
   "outputs": [
    {
     "name": "stdout",
     "output_type": "stream",
     "text": [
      "12 01 00 P\n"
     ]
    },
    {
     "data": {
      "text/plain": [
       "'12:01:00'"
      ]
     },
     "execution_count": 27,
     "metadata": {},
     "output_type": "execute_result"
    }
   ],
   "source": [
    "timeConversion('12:01:00PM')"
   ]
  }
 ],
 "metadata": {
  "kernelspec": {
   "display_name": "Python 3",
   "language": "python",
   "name": "python3"
  },
  "language_info": {
   "codemirror_mode": {
    "name": "ipython",
    "version": 3
   },
   "file_extension": ".py",
   "mimetype": "text/x-python",
   "name": "python",
   "nbconvert_exporter": "python",
   "pygments_lexer": "ipython3",
   "version": "3.10.8"
  },
  "orig_nbformat": 4,
  "vscode": {
   "interpreter": {
    "hash": "aee8b7b246df8f9039afb4144a1f6fd8d2ca17a180786b69acc140d282b71a49"
   }
  }
 },
 "nbformat": 4,
 "nbformat_minor": 2
}
